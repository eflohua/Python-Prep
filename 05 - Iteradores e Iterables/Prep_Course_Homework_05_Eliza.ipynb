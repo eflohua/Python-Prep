{
 "cells": [
  {
   "cell_type": "code",
   "execution_count": 5,
   "metadata": {},
   "outputs": [
    {
     "name": "stdout",
     "output_type": "stream",
     "text": [
      "[-15, -14, -13, -12, -11, -10, -9, -8, -7, -6, -5, -4, -3, -2, -1]\n"
     ]
    }
   ],
   "source": [
    "## Iteradores e iterables\n",
    "\n",
    "#1) A partir de una lista vacía, utilizar un ciclo while para cargar allí números negativos del -15 al -1\n",
    "\n",
    "lista = []\n",
    "i = -15\n",
    "while (i < 0):\n",
    "    lista.append(i)\n",
    "    i += 1\n",
    "print(lista)"
   ]
  },
  {
   "cell_type": "code",
   "execution_count": 6,
   "metadata": {},
   "outputs": [
    {
     "name": "stdout",
     "output_type": "stream",
     "text": [
      "-14\n",
      "-12\n",
      "-10\n",
      "-8\n",
      "-6\n",
      "-4\n",
      "-2\n"
     ]
    }
   ],
   "source": [
    "#2) ¿Con un ciclo while sería posible recorrer la lista para imprimir sólo los números pares?\n",
    "n=0\n",
    "while (n < len(lista)):\n",
    "    if (lista[n]%2)==0:\n",
    "        print(lista[n])\n",
    "    n+=1\n",
    "\n"
   ]
  },
  {
   "cell_type": "code",
   "execution_count": 7,
   "metadata": {},
   "outputs": [
    {
     "name": "stdout",
     "output_type": "stream",
     "text": [
      "-14\n",
      "-12\n",
      "-10\n",
      "-8\n",
      "-6\n",
      "-4\n",
      "-2\n"
     ]
    }
   ],
   "source": [
    "#3) Resolver el punto anterior sin utilizar un ciclo while\n",
    "for elemento in lista:\n",
    "    if(elemento % 2 == 0):\n",
    "        print(elemento)"
   ]
  },
  {
   "cell_type": "code",
   "execution_count": 8,
   "metadata": {},
   "outputs": [
    {
     "name": "stdout",
     "output_type": "stream",
     "text": [
      "-15\n",
      "-14\n",
      "-13\n"
     ]
    }
   ],
   "source": [
    "#4) Utilizar el iterable para recorrer sólo los primeros 3 elementos\n",
    "\n",
    "for elemento in lista[0:3]:\n",
    "    print(lista[elemento])\n"
   ]
  },
  {
   "cell_type": "code",
   "execution_count": 9,
   "metadata": {},
   "outputs": [
    {
     "name": "stdout",
     "output_type": "stream",
     "text": [
      "0 -15\n",
      "1 -14\n",
      "2 -13\n",
      "3 -12\n",
      "4 -11\n",
      "5 -10\n",
      "6 -9\n",
      "7 -8\n",
      "8 -7\n",
      "9 -6\n",
      "10 -5\n",
      "11 -4\n",
      "12 -3\n",
      "13 -2\n",
      "14 -1\n"
     ]
    }
   ],
   "source": [
    "#5) Utilizar la función **enumerate** para obtener dentro del iterable,\n",
    "#  tambien el índice al que corresponde el elemento\n",
    "for i, e in enumerate(lista):\n",
    "    print(i,e)\n"
   ]
  },
  {
   "cell_type": "code",
   "execution_count": 10,
   "metadata": {},
   "outputs": [
    {
     "data": {
      "text/plain": [
       "'lista = [1,2,5,7,8,10,13,14,15,17,20]\\n\\nfor n in lista:\\n    if not(n in lista):\\n        lista.insert(n-1,n)\\nprint(lista)'"
      ]
     },
     "execution_count": 10,
     "metadata": {},
     "output_type": "execute_result"
    }
   ],
   "source": [
    "#6) Dada la siguiente lista de números enteros entre 1 y 20, \n",
    "# crear un ciclo donde se completen los valores faltantes: lista = [1,2,5,7,8,10,13,14,15,17,20]\n",
    "\"\"\"lista = [1,2,5,7,8,10,13,14,15,17,20]\n",
    "\n",
    "for n in lista:\n",
    "    if not(n in lista):\n",
    "        lista.insert(n-1,n)\n",
    "print(lista)\"\"\"\n"
   ]
  },
  {
   "cell_type": "code",
   "execution_count": 11,
   "metadata": {},
   "outputs": [
    {
     "name": "stdout",
     "output_type": "stream",
     "text": [
      "[1, 2, 3, 4, 5, 6, 7, 8, 9, 10, 11, 12, 13, 14, 15, 16, 17, 18, 19, 20]\n"
     ]
    }
   ],
   "source": [
    "lista = [1,2,5,7,8,10,13,14,15,17,20]\n",
    "for i in range(1, lista[len(lista)-1]):\n",
    "    if(i in lista):\n",
    "        continue\n",
    "    else:\n",
    "        lista.append(i)\n",
    "lista.sort()\n",
    "print(lista)"
   ]
  },
  {
   "cell_type": "code",
   "execution_count": 12,
   "metadata": {},
   "outputs": [
    {
     "name": "stdout",
     "output_type": "stream",
     "text": [
      "[0, 1, 1, 2, 3, 5, 8, 13, 21, 34, 55, 89, 144, 233, 377, 610, 987, 1597, 2584, 4181, 6765, 10946, 17711, 28657, 46368, 75025, 121393, 196418, 317811, 514229]\n"
     ]
    }
   ],
   "source": [
    "#7) La sucesión de Fibonacci es un listado de números que sigue la fórmula: <br>\n",
    "# n<sub>0</sub> = 0<br>\n",
    "# n<sub>1</sub> = 1<br>\n",
    "# n<sub>i</sub> = n<sub>i-1</sub> + n<sub>i-2</sub><br>\n",
    "# Crear una lista con los primeros treinta números de la sucesión.<br>\n",
    "fibo = [0,1]\n",
    "n = 2\n",
    "while n < 30:\n",
    "    fibo.append(fibo[n-1]+fibo[n-2])\n",
    "    n+=1\n",
    "print(fibo)\n"
   ]
  },
  {
   "cell_type": "code",
   "execution_count": 13,
   "metadata": {},
   "outputs": [
    {
     "data": {
      "text/plain": [
       "'fibonacci = []\\nfor i in range(0,30):\\n    if(i==0 or i==1):\\n        fibonacci.append[i]\\n    else:\\n        fibonacci.append(fibonacci[i-1]+fibonacci[(i-2)])\\nprint(fibonacci)'"
      ]
     },
     "execution_count": 13,
     "metadata": {},
     "output_type": "execute_result"
    }
   ],
   "source": [
    "\"\"\"fibonacci = []\n",
    "for i in range(0,30):\n",
    "    if(i==0 or i==1):\n",
    "        fibonacci.append[i]\n",
    "    else:\n",
    "        fibonacci.append(fibonacci[i-1]+fibonacci[(i-2)])\n",
    "print(fibonacci)\"\"\""
   ]
  },
  {
   "cell_type": "code",
   "execution_count": 14,
   "metadata": {},
   "outputs": [
    {
     "name": "stdout",
     "output_type": "stream",
     "text": [
      "[0, 1, 1, 2, 3, 5, 8, 13, 21, 34, 55, 89, 144, 233, 377, 610, 987, 1597, 2584, 4181, 6765, 10946, 17711, 28657, 46368, 75025, 121393, 196418, 317811, 514229]\n",
      "1346268\n"
     ]
    }
   ],
   "source": [
    "#8) Realizar la suma de todos elementos de la lista del punto anterior\n",
    "fibo = [0,1]\n",
    "n = 2\n",
    "suma = 0\n",
    "while n < 30:\n",
    "    fibo.append(fibo[n-1]+fibo[n-2])\n",
    "    n+=1\n",
    "   # suma = suma + fibo\n",
    "print(fibo)\n",
    "print(sum(fibo))"
   ]
  },
  {
   "cell_type": "code",
   "execution_count": 15,
   "metadata": {},
   "outputs": [
    {
     "name": "stdout",
     "output_type": "stream",
     "text": [
      "10\n",
      "1.6176470588235294\n",
      "1.6181818181818182\n",
      "1.6179775280898876\n",
      "1.6180555555555556\n",
      "1.6180257510729614\n"
     ]
    }
   ],
   "source": [
    "#9) La proporción aurea se expresa con una proporción matemática que nace el número irracional Phi= 1,618… que los griegos llamaron número áureo.\n",
    "# El cuál se puede aproximar con la sucesión de Fibonacci. Con la lista del ejercicio anterior, \n",
    "# imprimir el cociente de los últimos 5 pares de dos números contiguos:<br>\n",
    "# Donde i es la cantidad total de elementos<br>\n",
    "# n<sub>i-1</sub> / n<sub>i</sub><br>\n",
    "# n<sub>i-2</sub> / n<sub>i-1</sub><br>\n",
    "# n<sub>i-3</sub> / n<sub>i-2</sub><br>\n",
    "# n<sub>i-4</sub> / n<sub>i-3</sub><br>\n",
    "# n<sub>i-5</sub> / n<sub>i-4</sub><br>\n",
    "\n",
    "primeros = 15\n",
    "n = primeros - 5\n",
    "print(n)\n",
    "while(n < primeros):\n",
    "    print(fibo[n]/fibo[n-1])\n",
    "    n+=1\n"
   ]
  },
  {
   "cell_type": "code",
   "execution_count": 16,
   "metadata": {},
   "outputs": [
    {
     "name": "stdout",
     "output_type": "stream",
     "text": [
      "7 n\n",
      "21 n\n",
      "39 n\n",
      "60 n\n",
      "67 n\n"
     ]
    }
   ],
   "source": [
    "# 10) A partir de la variable cadena ya dada, mostrar en qué posiciones aparece la letra \"n\"<br>\n",
    "# cadena = 'Hola Mundo. Esto es una practica del lenguaje de programación Python'\n",
    "cadena = 'Hola Mundo. Esto es una practica del lenguaje de programacion Python'\n",
    "for i,c in enumerate(cadena):\n",
    "    if(c=='n'):\n",
    "        print(i,c)\n",
    "     \n",
    "    "
   ]
  },
  {
   "cell_type": "code",
   "execution_count": 17,
   "metadata": {},
   "outputs": [
    {
     "name": "stdout",
     "output_type": "stream",
     "text": [
      "songs\n",
      "singers\n",
      "movies\n"
     ]
    }
   ],
   "source": [
    "# 11) Crear un diccionario e imprimir sus claves utilizando un iterador\n",
    "diccionario = {'songs':['rigth_now','scandal_of_grace','escape_my_mind','cosmic_dancer'],\n",
    "                'singers':['grace','tasha','haile','billie'],\n",
    "                'movies':['bumblebee','tomorrowland','transformer','alice_and_wonderland']}\n",
    "\n",
    "for i in diccionario:\n",
    "    print(i)"
   ]
  },
  {
   "cell_type": "code",
   "execution_count": 18,
   "metadata": {},
   "outputs": [
    {
     "name": "stdout",
     "output_type": "stream",
     "text": [
      "['H', 'o', 'l', 'a', ' ', 'M', 'u', 'n', 'd', 'o', '.', ' ', 'E', 's', 't', 'o', ' ', 'e', 's', ' ', 'u', 'n', 'a', ' ', 'p', 'r', 'a', 'c', 't', 'i', 'c', 'a', ' ', 'd', 'e', 'l', ' ', 'l', 'e', 'n', 'g', 'u', 'a', 'j', 'e', ' ', 'd', 'e', ' ', 'p', 'r', 'o', 'g', 'r', 'a', 'm', 'a', 'c', 'i', 'o', 'n', ' ', 'P', 'y', 't', 'h', 'o', 'n']\n"
     ]
    }
   ],
   "source": [
    "# 12) Convertir en una lista la variable \"cadena\" del punto 10 y luego recorrerla con un iterador \n",
    "cadena = 'Hola Mundo. Esto es una practica del lenguaje de programacion Python'\n",
    "cadena=list(cadena)\n",
    "print(cadena)"
   ]
  },
  {
   "cell_type": "code",
   "execution_count": 19,
   "metadata": {},
   "outputs": [
    {
     "name": "stdout",
     "output_type": "stream",
     "text": [
      "<list_iterator object at 0x0000017F5BC662F0>\n"
     ]
    }
   ],
   "source": [
    "recorre = iter(cadena)\n",
    "print(recorre)"
   ]
  },
  {
   "cell_type": "code",
   "execution_count": 20,
   "metadata": {},
   "outputs": [
    {
     "name": "stdout",
     "output_type": "stream",
     "text": [
      "H\n",
      "o\n",
      "l\n",
      "a\n",
      " \n",
      "M\n",
      "u\n",
      "n\n",
      "d\n",
      "o\n",
      ".\n",
      " \n",
      "E\n",
      "s\n",
      "t\n",
      "o\n",
      " \n",
      "e\n",
      "s\n",
      " \n",
      "u\n",
      "n\n",
      "a\n",
      " \n",
      "p\n",
      "r\n",
      "a\n",
      "c\n",
      "t\n",
      "i\n",
      "c\n",
      "a\n",
      " \n",
      "d\n",
      "e\n",
      "l\n",
      " \n",
      "l\n",
      "e\n",
      "n\n",
      "g\n",
      "u\n",
      "a\n",
      "j\n",
      "e\n",
      " \n",
      "d\n",
      "e\n",
      " \n",
      "p\n",
      "r\n",
      "o\n",
      "g\n",
      "r\n",
      "a\n",
      "m\n",
      "a\n",
      "c\n",
      "i\n",
      "o\n",
      "n\n",
      " \n",
      "P\n",
      "y\n",
      "t\n",
      "h\n",
      "o\n",
      "n\n"
     ]
    }
   ],
   "source": [
    "recorre = iter(cadena)\n",
    "largo = len(cadena)\n",
    "for i in range(0, largo):\n",
    "    print(next(recorre))"
   ]
  },
  {
   "cell_type": "code",
   "execution_count": 21,
   "metadata": {},
   "outputs": [
    {
     "name": "stdout",
     "output_type": "stream",
     "text": [
      "H\n",
      "o\n",
      "l\n",
      "a\n",
      " \n",
      "M\n",
      "u\n",
      "n\n",
      "d\n",
      "o\n",
      ".\n",
      " \n",
      "E\n",
      "s\n",
      "t\n",
      "o\n",
      " \n",
      "e\n",
      "s\n",
      " \n",
      "u\n",
      "n\n",
      "a\n",
      " \n",
      "p\n",
      "r\n",
      "a\n",
      "c\n",
      "t\n",
      "i\n",
      "c\n",
      "a\n",
      " \n",
      "d\n",
      "e\n",
      "l\n",
      " \n",
      "l\n",
      "e\n",
      "n\n",
      "g\n",
      "u\n",
      "a\n",
      "j\n",
      "e\n",
      " \n",
      "d\n",
      "e\n",
      " \n",
      "p\n",
      "r\n",
      "o\n",
      "g\n",
      "r\n",
      "a\n",
      "m\n",
      "a\n",
      "c\n",
      "i\n",
      "o\n",
      "n\n",
      " \n",
      "P\n",
      "y\n",
      "t\n",
      "h\n",
      "o\n",
      "n\n"
     ]
    }
   ],
   "source": [
    "#mi manera\n",
    "for i in cadena:\n",
    "    print(i)"
   ]
  },
  {
   "cell_type": "code",
   "execution_count": 22,
   "metadata": {},
   "outputs": [
    {
     "data": {
      "text/plain": [
       "[('Paulina', 'mama'),\n",
       " ('Armando', 'mayor'),\n",
       " ('Kely', 'hermana'),\n",
       " ('Franco', 'hermano'),\n",
       " ('Elizabeth', 'yo')]"
      ]
     },
     "execution_count": 22,
     "metadata": {},
     "output_type": "execute_result"
    }
   ],
   "source": [
    "# 13) Crear dos listas y unirlas en una tupla utilizando la función zip\n",
    "a = ['Paulina','Armando','Kely','Franco','Elizabeth']\n",
    "b = ['mama','mayor','hermana', 'hermano', 'yo']\n",
    "c = zip(a, b)\n",
    "type(c)\n",
    "list(c)"
   ]
  },
  {
   "cell_type": "code",
   "execution_count": 23,
   "metadata": {},
   "outputs": [
    {
     "name": "stdout",
     "output_type": "stream",
     "text": [
      "[21, 35, 42, 56, 63, 84, 91]\n"
     ]
    }
   ],
   "source": [
    "\n",
    "# 14) A partir de la siguiente lista de números, crear una nueva sólo si el número es divisible por 7<br>\n",
    "# lis = [18,21,29,32,35,42,56,60,63,71,84,90,91,100]\n",
    "lis = [18,21,29,32,35,42,56,60,63,71,84,90,91,100]\n",
    "n_lis = []\n",
    "for i, e in enumerate(lis):\n",
    "    if (e % 7 == 0):\n",
    "     n_lis.append(e)\n",
    "print(n_lis)\n"
   ]
  },
  {
   "cell_type": "code",
   "execution_count": 24,
   "metadata": {},
   "outputs": [
    {
     "name": "stdout",
     "output_type": "stream",
     "text": [
      "[21, 35, 42, 56, 63, 84, 91]\n"
     ]
    }
   ],
   "source": [
    "lis = [18,21,29,32,35,42,56,60,63,71,84,90,91,100]\n",
    "nueva_lista = [i for i in lis if i % 7 == 0] \n",
    "print(nueva_lista)"
   ]
  },
  {
   "cell_type": "code",
   "execution_count": 25,
   "metadata": {},
   "outputs": [
    {
     "name": "stdout",
     "output_type": "stream",
     "text": [
      "12\n"
     ]
    }
   ],
   "source": [
    "# 15) A partir de la lista de a continuación, contar la cantidad total de elementos que contiene,\n",
    "# teniendo en cuenta que un elemento de la lista podría ser otra lista:<br>\n",
    "# lis = [[1,2,3,4],'rojo','verde',[True,False,False],['uno','dos','tres']]\n",
    "lis = [[1,2,3,4],'rojo','verde',[True,False,False],['uno','dos','tres']]\n",
    "\n",
    "cantidad = 0\n",
    "for e in lis:\n",
    "    if (type(e) == list):\n",
    "        cantidad += len(e)\n",
    "    else:\n",
    "        cantidad+=1\n",
    "\n",
    "print(cantidad)\n",
    "        "
   ]
  },
  {
   "cell_type": "code",
   "execution_count": 26,
   "metadata": {},
   "outputs": [
    {
     "name": "stdout",
     "output_type": "stream",
     "text": [
      "[[1, 2, 3, 4], ['rojo'], ['verde'], [True, False, False], ['uno', 'dos', 'tres']]\n"
     ]
    }
   ],
   "source": [
    "# 16) Tomar la lista del punto anterior y convertir cada elemento en una lista si no lo es\n",
    "for i,e in enumerate(lis):\n",
    "    if (type(e) != list):\n",
    "        lis[i]=[e]\n",
    "print(lis)\n",
    "        \n"
   ]
  }
 ],
 "metadata": {
  "interpreter": {
   "hash": "e371a547b05cc06fe9399c68d0811fab82050f0eaa2349dcabfd68d0d68f365a"
  },
  "kernelspec": {
   "display_name": "Python 3.10.4 64-bit",
   "language": "python",
   "name": "python3"
  },
  "language_info": {
   "codemirror_mode": {
    "name": "ipython",
    "version": 3
   },
   "file_extension": ".py",
   "mimetype": "text/x-python",
   "name": "python",
   "nbconvert_exporter": "python",
   "pygments_lexer": "ipython3",
   "version": "3.10.4"
  },
  "orig_nbformat": 4
 },
 "nbformat": 4,
 "nbformat_minor": 2
}
