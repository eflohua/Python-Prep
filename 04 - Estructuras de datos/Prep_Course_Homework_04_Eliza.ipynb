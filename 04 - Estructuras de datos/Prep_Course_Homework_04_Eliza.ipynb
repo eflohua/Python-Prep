{
 "cells": [
  {
   "cell_type": "code",
   "execution_count": 219,
   "metadata": {},
   "outputs": [
    {
     "name": "stdout",
     "output_type": "stream",
     "text": [
      "['Lima', 'Asuncion', 'Washington', 'Santiago de Chile', 'Buenos Aires', 'Montevideo']\n"
     ]
    }
   ],
   "source": [
    "## Estructuras de Datos: Clase 4\n",
    "#1) Crear una lista que contenga nombres de ciudades del mundo que contenga más de 5 elementos e imprimir por pantalla\n",
    "lista_ciudades=['Lima', 'Asuncion', 'Washington','Santiago de Chile','Buenos Aires','Montevideo']\n",
    "print(lista_ciudades)"
   ]
  },
  {
   "cell_type": "code",
   "execution_count": 220,
   "metadata": {},
   "outputs": [
    {
     "name": "stdout",
     "output_type": "stream",
     "text": [
      "Asuncion\n"
     ]
    }
   ],
   "source": [
    "#2) Imprimir por pantalla el segundo elemento de la lista\n",
    "print(lista_ciudades[1])"
   ]
  },
  {
   "cell_type": "code",
   "execution_count": 221,
   "metadata": {},
   "outputs": [
    {
     "name": "stdout",
     "output_type": "stream",
     "text": [
      "['Asuncion', 'Washington', 'Santiago de Chile']\n"
     ]
    }
   ],
   "source": [
    "#3) Imprimir por pantalla del segundo al cuarto elemento\n",
    "print(lista_ciudades[1:4])"
   ]
  },
  {
   "cell_type": "code",
   "execution_count": 222,
   "metadata": {},
   "outputs": [
    {
     "name": "stdout",
     "output_type": "stream",
     "text": [
      "<class 'list'>\n"
     ]
    }
   ],
   "source": [
    "#4) Visualizar el tipo de dato de la lista\n",
    "print(type(lista_ciudades))"
   ]
  },
  {
   "cell_type": "code",
   "execution_count": 223,
   "metadata": {},
   "outputs": [
    {
     "name": "stdout",
     "output_type": "stream",
     "text": [
      "['Washington', 'Santiago de Chile', 'Buenos Aires', 'Montevideo']\n"
     ]
    }
   ],
   "source": [
    "#5) Visualizar todos los elementos de la lista a partir del tercero de manera genérica, es decir, sin explicitar la posición del último elemento\n",
    "print(lista_ciudades[2:])"
   ]
  },
  {
   "cell_type": "code",
   "execution_count": 224,
   "metadata": {},
   "outputs": [
    {
     "data": {
      "text/plain": [
       "['Lima', 'Asuncion', 'Washington', 'Santiago de Chile']"
      ]
     },
     "execution_count": 224,
     "metadata": {},
     "output_type": "execute_result"
    }
   ],
   "source": [
    "#6) Visualizar los primeros 4 elementos de la lista\n",
    "lista_ciudades[:4]\n"
   ]
  },
  {
   "cell_type": "code",
   "execution_count": 225,
   "metadata": {},
   "outputs": [
    {
     "data": {
      "text/plain": [
       "['Lima',\n",
       " 'Asuncion',\n",
       " 'Washington',\n",
       " 'Santiago de Chile',\n",
       " 'Buenos Aires',\n",
       " 'Montevideo',\n",
       " 'Lima',\n",
       " 'Paris']"
      ]
     },
     "execution_count": 225,
     "metadata": {},
     "output_type": "execute_result"
    }
   ],
   "source": [
    "#7) Agregar una ciudad más a la lista que ya exista y otra que no ¿Arroja algún tipo de error?\n",
    "lista_ciudades.append('Lima')\n",
    "lista_ciudades.append('Paris')\n",
    "lista_ciudades"
   ]
  },
  {
   "cell_type": "code",
   "execution_count": 226,
   "metadata": {},
   "outputs": [
    {
     "name": "stdout",
     "output_type": "stream",
     "text": [
      "['Lima', 'Asuncion', 'Washington', 'Santiago de Chile', 'Buenos Aires', 'Montevideo', 'Lima', 'Paris', 'Lima', 'eliza']\n"
     ]
    }
   ],
   "source": [
    "lista_ciudades.extend(['Lima','eliza']) \n",
    "print(lista_ciudades)"
   ]
  },
  {
   "cell_type": "code",
   "execution_count": 227,
   "metadata": {},
   "outputs": [],
   "source": [
    "#8) Agregar otra ciudad, pero en la cuarta posición\n",
    "lista_ciudades.insert(3,'Managua')"
   ]
  },
  {
   "cell_type": "code",
   "execution_count": 228,
   "metadata": {},
   "outputs": [
    {
     "data": {
      "text/plain": [
       "['Lima',\n",
       " 'Asuncion',\n",
       " 'Washington',\n",
       " 'Managua',\n",
       " 'Santiago de Chile',\n",
       " 'Buenos Aires',\n",
       " 'Montevideo',\n",
       " 'Lima',\n",
       " 'Paris',\n",
       " 'Lima',\n",
       " 'eliza']"
      ]
     },
     "execution_count": 228,
     "metadata": {},
     "output_type": "execute_result"
    }
   ],
   "source": [
    "lista_ciudades"
   ]
  },
  {
   "cell_type": "code",
   "execution_count": 229,
   "metadata": {},
   "outputs": [
    {
     "data": {
      "text/plain": [
       "['Lima',\n",
       " 'Asuncion',\n",
       " 'Washington',\n",
       " 'Managua',\n",
       " 'Santiago de Chile',\n",
       " 'Buenos Aires',\n",
       " 'Montevideo',\n",
       " 'Lima',\n",
       " 'Paris',\n",
       " 'Lima',\n",
       " 'eliza',\n",
       " ['celular', 'television', 'laptop']]"
      ]
     },
     "execution_count": 229,
     "metadata": {},
     "output_type": "execute_result"
    }
   ],
   "source": [
    "#9) Concatenar otra lista a la ya creada\n",
    "nueva_lista=['celular','television','laptop']\n",
    "lista_ciudades.append(nueva_lista)\n",
    "lista_ciudades"
   ]
  },
  {
   "cell_type": "code",
   "execution_count": 230,
   "metadata": {},
   "outputs": [
    {
     "name": "stdout",
     "output_type": "stream",
     "text": [
      "['Lima', 'Asuncion', 'Washington', 'Managua', 'Santiago de Chile', 'Buenos Aires', 'Montevideo', 'Lima', 'Paris', 'Lima', 'eliza', ['celular', 'television', 'laptop'], 'islas malvinas', 'chernobil', 'Fukushima']\n"
     ]
    }
   ],
   "source": [
    "nueva_lista1 = ['islas malvinas','chernobil','Fukushima']\n",
    "lista_ciudades.extend(nueva_lista1)\n",
    "print(lista_ciudades)"
   ]
  },
  {
   "cell_type": "code",
   "execution_count": 231,
   "metadata": {},
   "outputs": [
    {
     "data": {
      "text/plain": [
       "0"
      ]
     },
     "execution_count": 231,
     "metadata": {},
     "output_type": "execute_result"
    }
   ],
   "source": [
    "#10) Encontrar el índice de la ciudad que en el punto 7 agregamos duplicada. ¿Se nota alguna particularidad?\n",
    "lista_ciudades.index('Lima')"
   ]
  },
  {
   "cell_type": "code",
   "execution_count": 232,
   "metadata": {},
   "outputs": [
    {
     "ename": "ValueError",
     "evalue": "'Quito' is not in list",
     "output_type": "error",
     "traceback": [
      "\u001b[1;31m---------------------------------------------------------------------------\u001b[0m",
      "\u001b[1;31mValueError\u001b[0m                                Traceback (most recent call last)",
      "\u001b[1;32mc:\\Users\\HP SUPPORT\\Desktop\\Python-Prep\\04 - Estructuras de datos\\Prep_Course_Homework_04_Homework_Eliza.ipynb Cell 14'\u001b[0m in \u001b[0;36m<cell line: 2>\u001b[1;34m()\u001b[0m\n\u001b[0;32m      <a href='vscode-notebook-cell:/c%3A/Users/HP%20SUPPORT/Desktop/Python-Prep/04%20-%20Estructuras%20de%20datos/Prep_Course_Homework_04_Homework_Eliza.ipynb#ch0000016?line=0'>1</a>\u001b[0m \u001b[39m#11) ¿Qué pasa si se busca un elemento que no existe?\u001b[39;00m\n\u001b[1;32m----> <a href='vscode-notebook-cell:/c%3A/Users/HP%20SUPPORT/Desktop/Python-Prep/04%20-%20Estructuras%20de%20datos/Prep_Course_Homework_04_Homework_Eliza.ipynb#ch0000016?line=1'>2</a>\u001b[0m lista_ciudades\u001b[39m.\u001b[39;49mindex(\u001b[39m'\u001b[39;49m\u001b[39mQuito\u001b[39;49m\u001b[39m'\u001b[39;49m)\n",
      "\u001b[1;31mValueError\u001b[0m: 'Quito' is not in list"
     ]
    }
   ],
   "source": [
    "#11) ¿Qué pasa si se busca un elemento que no existe?\n",
    "lista_ciudades.index('Quito')\n"
   ]
  },
  {
   "cell_type": "code",
   "execution_count": null,
   "metadata": {},
   "outputs": [
    {
     "data": {
      "text/plain": [
       "False"
      ]
     },
     "execution_count": 150,
     "metadata": {},
     "output_type": "execute_result"
    }
   ],
   "source": [
    "'Quito' in lista_ciudades"
   ]
  },
  {
   "cell_type": "code",
   "execution_count": null,
   "metadata": {},
   "outputs": [
    {
     "name": "stdout",
     "output_type": "stream",
     "text": [
      "no hay la ciudad de Quito\n"
     ]
    }
   ],
   "source": [
    "if ('Quito' in lista_ciudades):\n",
    "    print(lista_ciudades.index('Quito'))\n",
    "else:\n",
    "    print(\"no hay la ciudad de Quito\")"
   ]
  },
  {
   "cell_type": "code",
   "execution_count": null,
   "metadata": {},
   "outputs": [],
   "source": [
    "#12) Eliminar un elemento de la lista\n",
    "lista_ciudades.remove('Asuncion')"
   ]
  },
  {
   "cell_type": "code",
   "execution_count": null,
   "metadata": {},
   "outputs": [
    {
     "data": {
      "text/plain": [
       "['Lima',\n",
       " 'Washington',\n",
       " 'Managua',\n",
       " 'Santiago de Chile',\n",
       " 'Buenos Aires',\n",
       " 'Montevideo',\n",
       " 'Lima',\n",
       " 'Paris',\n",
       " 'Lima',\n",
       " 'eliza',\n",
       " ['celular', 'television', 'laptop']]"
      ]
     },
     "execution_count": 70,
     "metadata": {},
     "output_type": "execute_result"
    }
   ],
   "source": [
    "lista_ciudades"
   ]
  },
  {
   "cell_type": "code",
   "execution_count": null,
   "metadata": {},
   "outputs": [
    {
     "ename": "ValueError",
     "evalue": "list.remove(x): x not in list",
     "output_type": "error",
     "traceback": [
      "\u001b[1;31m---------------------------------------------------------------------------\u001b[0m",
      "\u001b[1;31mValueError\u001b[0m                                Traceback (most recent call last)",
      "\u001b[1;32mc:\\Users\\HP SUPPORT\\Desktop\\Python-Prep\\04 - Estructuras de datos\\Prep_Course_Homework_04_Homework_Eliza.ipynb Cell 16'\u001b[0m in \u001b[0;36m<cell line: 2>\u001b[1;34m()\u001b[0m\n\u001b[0;32m      <a href='vscode-notebook-cell:/c%3A/Users/HP%20SUPPORT/Desktop/Python-Prep/04%20-%20Estructuras%20de%20datos/Prep_Course_Homework_04_Homework_Eliza.ipynb#ch0000019?line=0'>1</a>\u001b[0m \u001b[39m#13) ¿Qué pasa si el elemento a eliminar no existe?\u001b[39;00m\n\u001b[1;32m----> <a href='vscode-notebook-cell:/c%3A/Users/HP%20SUPPORT/Desktop/Python-Prep/04%20-%20Estructuras%20de%20datos/Prep_Course_Homework_04_Homework_Eliza.ipynb#ch0000019?line=1'>2</a>\u001b[0m lista_ciudades\u001b[39m.\u001b[39;49mremove(\u001b[39m'\u001b[39;49m\u001b[39mflores\u001b[39;49m\u001b[39m'\u001b[39;49m)\n",
      "\u001b[1;31mValueError\u001b[0m: list.remove(x): x not in list"
     ]
    }
   ],
   "source": [
    "#13) ¿Qué pasa si el elemento a eliminar no existe?\n",
    "lista_ciudades.remove('flores')"
   ]
  },
  {
   "cell_type": "code",
   "execution_count": null,
   "metadata": {},
   "outputs": [
    {
     "name": "stdout",
     "output_type": "stream",
     "text": [
      "Fukushima\n"
     ]
    }
   ],
   "source": [
    "#14) Extraer el úlimo elemento de la lista, guardarlo en una variable e imprimirlo\n",
    "a=lista_ciudades.pop()\n",
    "print(a)"
   ]
  },
  {
   "cell_type": "code",
   "execution_count": null,
   "metadata": {},
   "outputs": [
    {
     "data": {
      "text/plain": [
       "['television',\n",
       " 'laptop',\n",
       " 'islas malvinas',\n",
       " 'chernobil',\n",
       " 'celular',\n",
       " 'Washington',\n",
       " 'Santiago de Chile',\n",
       " 'París',\n",
       " 'Montevideo',\n",
       " 'Managua',\n",
       " 'Lima',\n",
       " 'Buenos Aires']"
      ]
     },
     "execution_count": 159,
     "metadata": {},
     "output_type": "execute_result"
    }
   ],
   "source": [
    "lista_ciudades.sort(reverse=True)\n",
    "lista_ciudades"
   ]
  },
  {
   "cell_type": "code",
   "execution_count": null,
   "metadata": {},
   "outputs": [
    {
     "data": {
      "text/plain": [
       "['Buenos Aires',\n",
       " 'Lima',\n",
       " 'Managua',\n",
       " 'Montevideo',\n",
       " 'París',\n",
       " 'Santiago de Chile',\n",
       " 'Washington',\n",
       " 'celular',\n",
       " 'chernobil',\n",
       " 'islas malvinas',\n",
       " 'laptop',\n",
       " 'television']"
      ]
     },
     "execution_count": 161,
     "metadata": {},
     "output_type": "execute_result"
    }
   ],
   "source": [
    "lista_ciudades.sort()\n",
    "lista_ciudades"
   ]
  },
  {
   "cell_type": "code",
   "execution_count": null,
   "metadata": {},
   "outputs": [
    {
     "name": "stdout",
     "output_type": "stream",
     "text": [
      "['Buenos Aires', 'Lima', 'Managua', 'Montevideo', 'París', 'Santiago de Chile', 'Washington', 'celular', 'chernobil', 'islas malvinas', 'laptop', 'television', 'Buenos Aires', 'Lima', 'Managua', 'Montevideo', 'París', 'Santiago de Chile', 'Washington', 'celular', 'chernobil', 'islas malvinas', 'laptop', 'television', 'Buenos Aires', 'Lima', 'Managua', 'Montevideo', 'París', 'Santiago de Chile', 'Washington', 'celular', 'chernobil', 'islas malvinas', 'laptop', 'television', 'Buenos Aires', 'Lima', 'Managua', 'Montevideo', 'París', 'Santiago de Chile', 'Washington', 'celular', 'chernobil', 'islas malvinas', 'laptop', 'television']\n"
     ]
    }
   ],
   "source": [
    "#15) Mostrar la lista multiplicada por 4\n",
    "print(lista_ciudades*4)"
   ]
  },
  {
   "cell_type": "code",
   "execution_count": null,
   "metadata": {},
   "outputs": [
    {
     "data": {
      "text/plain": [
       "(1, 2, 3, 4, 5, 6, 7, 8, 9, 10, 11, 12, 13, 14, 15, 16, 17, 18, 19, 20)"
      ]
     },
     "execution_count": 218,
     "metadata": {},
     "output_type": "execute_result"
    }
   ],
   "source": [
    "#16) Crear una tupla que contenga los números enteros del 1 al 20\n",
    "tupl=tuple(range(1,21))\n",
    "tupl"
   ]
  },
  {
   "cell_type": "code",
   "execution_count": null,
   "metadata": {},
   "outputs": [
    {
     "name": "stdout",
     "output_type": "stream",
     "text": [
      "(11, 12, 13, 14, 15, 16)\n"
     ]
    }
   ],
   "source": [
    "#17) Imprimir desde el índice 10 al 15 de la tupla\n",
    "print(tupl[10:16])"
   ]
  },
  {
   "cell_type": "code",
   "execution_count": null,
   "metadata": {},
   "outputs": [
    {
     "name": "stdout",
     "output_type": "stream",
     "text": [
      "False\n",
      "False\n"
     ]
    }
   ],
   "source": [
    "#18) Evaluar si los números 20 y 30 están dentro de la tupla\n",
    "print(20 in tupl)\n",
    "print(30 in tupl)\n"
   ]
  },
  {
   "cell_type": "code",
   "execution_count": null,
   "metadata": {},
   "outputs": [
    {
     "name": "stdout",
     "output_type": "stream",
     "text": [
      "se agrego a la lista de ciudades Par\n"
     ]
    }
   ],
   "source": [
    "#19) Con la lista creada en el punto 1, validar la existencia del\n",
    "# elemento 'París' y si no existe, agregarlo. Utilizar una variable e informar lo sucedido.\n",
    "elemento = 'Par'\n",
    "if (not(elemento in lista_ciudades)):\n",
    "    lista_ciudades.append(elemento)\n",
    "    print('se agrego a la lista de ciudades',elemento)\n",
    "else:\n",
    "    print('No se agregó a la lista porq ',elemento,' ya existia')"
   ]
  },
  {
   "cell_type": "code",
   "execution_count": null,
   "metadata": {},
   "outputs": [
    {
     "data": {
      "text/plain": [
       "['Buenos Aires',\n",
       " 'Lima',\n",
       " 'Managua',\n",
       " 'Montevideo',\n",
       " 'París',\n",
       " 'Santiago de Chile',\n",
       " 'Washington',\n",
       " 'celular',\n",
       " 'chernobil',\n",
       " 'islas malvinas',\n",
       " 'laptop',\n",
       " 'television',\n",
       " 'París',\n",
       " 'Pari',\n",
       " 'Paris',\n",
       " 'Par']"
      ]
     },
     "execution_count": 185,
     "metadata": {},
     "output_type": "execute_result"
    }
   ],
   "source": [
    "lista_ciudades"
   ]
  },
  {
   "cell_type": "code",
   "execution_count": null,
   "metadata": {},
   "outputs": [
    {
     "data": {
      "text/plain": [
       "False"
      ]
     },
     "execution_count": 186,
     "metadata": {},
     "output_type": "execute_result"
    }
   ],
   "source": [
    "#sirve para cambiar de false a True o de True  a False\n",
    "not(True)"
   ]
  },
  {
   "cell_type": "markdown",
   "metadata": {},
   "source": [
    "lista_ciudad['Paris']"
   ]
  },
  {
   "cell_type": "code",
   "execution_count": null,
   "metadata": {},
   "outputs": [
    {
     "name": "stdout",
     "output_type": "stream",
     "text": [
      "1\n",
      "1\n"
     ]
    }
   ],
   "source": [
    "#20) Mostrar la cantidad de veces que se encuentra un elemento específico\n",
    "#  dentro de la tupla y de la lista\n",
    "print(tupl.count(5))\n",
    "print(lista_ciudades.count('Lima'))\n"
   ]
  },
  {
   "cell_type": "code",
   "execution_count": 233,
   "metadata": {},
   "outputs": [
    {
     "data": {
      "text/plain": [
       "[1, 2, 3, 4, 5, 6, 7, 8, 9, 10, 11, 12, 13, 14, 15, 16, 17, 18, 19, 20]"
      ]
     },
     "execution_count": 233,
     "metadata": {},
     "output_type": "execute_result"
    }
   ],
   "source": [
    "#21) Convertir la tupla en una lista\n",
    "convertido_a_lista=list(tupl)\n",
    "convertido_a_lista\n"
   ]
  },
  {
   "cell_type": "code",
   "execution_count": 243,
   "metadata": {},
   "outputs": [
    {
     "name": "stdout",
     "output_type": "stream",
     "text": [
      "1 2 3\n"
     ]
    }
   ],
   "source": [
    "#22) Desempaquetar solo los primeros 3 elementos de la tupla en 3 variables\n",
    "var1, var2, var3 =tupl[:3]\n",
    "print(var1, var2, var3)"
   ]
  },
  {
   "cell_type": "code",
   "execution_count": 246,
   "metadata": {},
   "outputs": [
    {
     "data": {
      "text/plain": [
       "(1, 2, 3, 4)"
      ]
     },
     "execution_count": 246,
     "metadata": {},
     "output_type": "execute_result"
    }
   ],
   "source": [
    "tuuu=(1,2,3,4)\n",
    "tuuu"
   ]
  },
  {
   "cell_type": "code",
   "execution_count": 257,
   "metadata": {},
   "outputs": [
    {
     "data": {
      "text/plain": [
       "3"
      ]
     },
     "execution_count": 257,
     "metadata": {},
     "output_type": "execute_result"
    }
   ],
   "source": [
    "v1,v2,v3,_4=tuuu\n",
    "v3\n"
   ]
  },
  {
   "cell_type": "code",
   "execution_count": 244,
   "metadata": {},
   "outputs": [],
   "source": [
    "var1, var2, var3, _4,_5,_6,_7,_8,_9,_10,_11,_12, _13, _14, _15, _16, _17, _18, _19, _20 = tupl"
   ]
  },
  {
   "cell_type": "code",
   "execution_count": null,
   "metadata": {},
   "outputs": [
    {
     "name": "stdout",
     "output_type": "stream",
     "text": [
      "(1, 2, 3, 4, 5, 6, 7, 8, 9, 10, 11, 12, 13, 14, 15, 16, 17, 18, 19)\n"
     ]
    }
   ],
   "source": [
    "print(tupl)"
   ]
  },
  {
   "cell_type": "code",
   "execution_count": null,
   "metadata": {},
   "outputs": [],
   "source": [
    "#23) Crear un diccionario utilizando la lista crada en el punto 1,\n",
    "#  asignandole la clave \"ciudad\". Agregar tambien otras claves, como puede ser \"Pais\" y \"Continente\".\n",
    "diccionario1={'ciudad': ['Lima', 'Asuncion', 'Washington','Santiago de Chile','Buenos Aires','Montevideo'],\n",
    "              'Pais': ['Perú','Paraguay','USA','Chile','Argentina','Uruguay'],\n",
    "              'Continente':['America','Europa','Asia','Africa','Oceania','Antartida']}"
   ]
  },
  {
   "cell_type": "code",
   "execution_count": null,
   "metadata": {},
   "outputs": [
    {
     "data": {
      "text/plain": [
       "{'ciudad': ['Lima',\n",
       "  'Asuncion',\n",
       "  'Washington',\n",
       "  'Santiago de Chile',\n",
       "  'Buenos Aires',\n",
       "  'Montevideo'],\n",
       " 'Pais': ['Perú', 'Paraguay', 'USA', 'Chile', 'Argentina', 'Uruguay'],\n",
       " 'Continente': ['America', 'Europa', 'Asia', 'Africa', 'Oceania', 'Antartida']}"
      ]
     },
     "execution_count": 128,
     "metadata": {},
     "output_type": "execute_result"
    }
   ],
   "source": [
    "diccionario1"
   ]
  },
  {
   "cell_type": "code",
   "execution_count": null,
   "metadata": {},
   "outputs": [
    {
     "data": {
      "text/plain": [
       "dict_keys(['ciudad', 'Pais', 'Continente'])"
      ]
     },
     "execution_count": 136,
     "metadata": {},
     "output_type": "execute_result"
    }
   ],
   "source": [
    "#24) Imprimir las claves del diccionario\n",
    "diccionario1.keys()"
   ]
  },
  {
   "cell_type": "code",
   "execution_count": null,
   "metadata": {},
   "outputs": [
    {
     "data": {
      "text/plain": [
       "['Lima',\n",
       " 'Asuncion',\n",
       " 'Washington',\n",
       " 'Santiago de Chile',\n",
       " 'Buenos Aires',\n",
       " 'Montevideo']"
      ]
     },
     "execution_count": 147,
     "metadata": {},
     "output_type": "execute_result"
    }
   ],
   "source": [
    "#25) Imprimir las ciudades a través de su clave\n",
    "diccionario1['ciudad']"
   ]
  },
  {
   "cell_type": "code",
   "execution_count": null,
   "metadata": {},
   "outputs": [
    {
     "data": {
      "text/plain": [
       "['Perú', 'Paraguay', 'USA', 'Chile', 'Argentina', 'Uruguay']"
      ]
     },
     "execution_count": 145,
     "metadata": {},
     "output_type": "execute_result"
    }
   ],
   "source": [
    "diccionario1['Pais']"
   ]
  },
  {
   "cell_type": "code",
   "execution_count": null,
   "metadata": {},
   "outputs": [
    {
     "data": {
      "text/plain": [
       "['America', 'Europa', 'Asia', 'Africa', 'Oceania', 'Antartida']"
      ]
     },
     "execution_count": 146,
     "metadata": {},
     "output_type": "execute_result"
    }
   ],
   "source": [
    "diccionario1['Continente']"
   ]
  }
 ],
 "metadata": {
  "interpreter": {
   "hash": "e371a547b05cc06fe9399c68d0811fab82050f0eaa2349dcabfd68d0d68f365a"
  },
  "kernelspec": {
   "display_name": "Python 3.10.4 64-bit",
   "language": "python",
   "name": "python3"
  },
  "language_info": {
   "codemirror_mode": {
    "name": "ipython",
    "version": 3
   },
   "file_extension": ".py",
   "mimetype": "text/x-python",
   "name": "python",
   "nbconvert_exporter": "python",
   "pygments_lexer": "ipython3",
   "version": "3.10.4"
  },
  "orig_nbformat": 4
 },
 "nbformat": 4,
 "nbformat_minor": 2
}
