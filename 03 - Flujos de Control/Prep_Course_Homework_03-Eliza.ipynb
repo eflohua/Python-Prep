{
 "cells": [
  {
   "cell_type": "code",
   "execution_count": 1,
   "metadata": {},
   "outputs": [
    {
     "name": "stdout",
     "output_type": "stream",
     "text": [
      "Es igual a 0\n"
     ]
    }
   ],
   "source": [
    "## Flujos de Control\n",
    "\n",
    "#1) Crear una variable que contenga un elemento del conjunto de números enteros y luego imprimir por pantalla si es mayor o menor a cero\n",
    "from cgi import print_arguments\n",
    "from math import factorial\n",
    "\n",
    "\n",
    "a=0\n",
    "if a>0:\n",
    "    print(\"Es mayor a 0\")\n",
    "elif a<0:\n",
    "    print(\"Es menor a 0\")\n",
    "else:\n",
    "    print(\"Es igual a 0\")\n"
   ]
  },
  {
   "cell_type": "code",
   "execution_count": 2,
   "metadata": {},
   "outputs": [
    {
     "name": "stdout",
     "output_type": "stream",
     "text": [
      "no son del mismo tipo\n"
     ]
    }
   ],
   "source": [
    "#2) Crear dos variables y un condicional que informe si son del mismo tipo de dato\n",
    "a='Elizabeth'\n",
    "b=45\n",
    "if(type(a)==type(b)):\n",
    "    print(\" son del mismo tipo\")\n",
    "else:\n",
    "    print(\"no son del mismo tipo\")"
   ]
  },
  {
   "cell_type": "code",
   "execution_count": 3,
   "metadata": {},
   "outputs": [
    {
     "name": "stdout",
     "output_type": "stream",
     "text": [
      "1 no es par\n",
      "2 es par\n",
      "3 no es par\n",
      "4 es par\n",
      "5 no es par\n",
      "6 es par\n",
      "7 no es par\n",
      "8 es par\n",
      "9 no es par\n",
      "10 es par\n",
      "11 no es par\n",
      "12 es par\n",
      "13 no es par\n",
      "14 es par\n",
      "15 no es par\n",
      "16 es par\n",
      "17 no es par\n",
      "18 es par\n",
      "19 no es par\n",
      "20 es par\n"
     ]
    }
   ],
   "source": [
    "#3) Para los valores enteros del 1 al 20, imprimir por pantalla si es par o impar\n",
    "for n in range (1,21):\n",
    "    if n%2==0:\n",
    "        print(n,\"es par\")\n",
    "    else:\n",
    "        print(n,\"no es par\")"
   ]
  },
  {
   "cell_type": "code",
   "execution_count": 4,
   "metadata": {},
   "outputs": [
    {
     "name": "stdout",
     "output_type": "stream",
     "text": [
      "0potencia\n",
      "1potencia\n",
      "8potencia\n",
      "27potencia\n",
      "64potencia\n",
      "125potencia\n"
     ]
    }
   ],
   "source": [
    "#4) En un ciclo for mostrar para los valores entre 0 y 5 el resultado de elevarlo a la potencia igual a 3\n",
    "\n",
    "for n in range (0,6):\n",
    "    p=n**3\n",
    "    print(str(p)+\"potencia\")"
   ]
  },
  {
   "cell_type": "code",
   "execution_count": 5,
   "metadata": {},
   "outputs": [
    {
     "name": "stdout",
     "output_type": "stream",
     "text": [
      "0\n",
      "1\n",
      "2\n",
      "3\n",
      "4\n",
      "5\n",
      "6\n",
      "7\n",
      "8\n",
      "9\n",
      "10\n",
      "11\n"
     ]
    }
   ],
   "source": [
    "#5) Crear una variable que contenga un número entero y realizar un ciclo for la misma cantidad de ciclos\n",
    "a=12\n",
    "for i in range (0,a):\n",
    "    print(i)\n",
    "    pass"
   ]
  },
  {
   "cell_type": "code",
   "execution_count": 6,
   "metadata": {},
   "outputs": [
    {
     "name": "stdout",
     "output_type": "stream",
     "text": [
      "hola\n",
      "el factorial es:  120\n"
     ]
    }
   ],
   "source": [
    "#6) Utilizar un ciclo while para realizar el factorial de un número guardado en una variable, \n",
    "#sólo si la variable contiene un número entero mayor a 0\n",
    "print(\"hola\")\n",
    "n=5\n",
    "if type(n)==int:\n",
    "    if n>0:\n",
    "        factorial=n\n",
    "        while n>2:\n",
    "            n=n-1\n",
    "            factorial=factorial*n\n",
    "        print(\"el factorial es: \",factorial)\n",
    "    else:\n",
    "     print(\"no es mayor a 0\")\n",
    "else:\n",
    "    print(\"no es un numero entero\")"
   ]
  },
  {
   "cell_type": "code",
   "execution_count": 7,
   "metadata": {},
   "outputs": [
    {
     "name": "stdout",
     "output_type": "stream",
     "text": [
      "hola 2\n",
      "chau chau 1\n",
      "hola 3\n",
      "chau chau 1\n",
      "hola 3\n",
      "chau chau 2\n",
      "hola 4\n",
      "chau chau 1\n",
      "hola 4\n",
      "chau chau 2\n",
      "hola 4\n",
      "chau chau 3\n",
      "hola 5\n",
      "chau chau 1\n",
      "hola 5\n",
      "chau chau 2\n",
      "hola 5\n",
      "chau chau 3\n",
      "hola 5\n",
      "chau chau 4\n"
     ]
    }
   ],
   "source": [
    "#7) Crear un ciclo for dentro de un ciclo while\n",
    "n=0\n",
    "while n<5:\n",
    "    n=n+1\n",
    "    for i in range (1,n):\n",
    "        print(\"hola\", n)\n",
    "        print(\"chau chau\", i)"
   ]
  },
  {
   "cell_type": "code",
   "execution_count": 8,
   "metadata": {},
   "outputs": [],
   "source": [
    "#8) Crear un ciclo while dentro de un ciclo for\n",
    "\n",
    "n = 5\n",
    "for i in range(1, n):\n",
    "    while(n < 5):\n",
    "        n -= 1 #4\n",
    "        print('Ciclo while nro ' + str(n))#4\n",
    "        print('Ciclo for nro ' + str(i))#1"
   ]
  },
  {
   "cell_type": "code",
   "execution_count": 9,
   "metadata": {},
   "outputs": [
    {
     "name": "stdout",
     "output_type": "stream",
     "text": [
      "0 es primo\n",
      "1 es primo\n",
      "2 es primo\n",
      "3 es primo\n",
      "4 no es primo\n",
      "5 es primo\n",
      "6 no es primo\n",
      "7 es primo\n",
      "8 no es primo\n",
      "9 no es primo\n",
      "10 no es primo\n",
      "11 es primo\n",
      "12 no es primo\n",
      "13 es primo\n",
      "14 no es primo\n",
      "15 no es primo\n",
      "16 no es primo\n",
      "17 es primo\n",
      "18 no es primo\n",
      "19 es primo\n",
      "20 no es primo\n",
      "21 no es primo\n",
      "22 no es primo\n",
      "23 es primo\n",
      "24 no es primo\n",
      "25 no es primo\n",
      "26 no es primo\n",
      "27 no es primo\n",
      "28 no es primo\n",
      "29 es primo\n",
      "30 no es primo\n"
     ]
    }
   ],
   "source": [
    "#9) Imprimir los números primos existentes entre 0 y 30\n",
    "for nro in range(0, 31):\n",
    "    es_primo=True\n",
    "    for i in range(2, nro): \n",
    "        if (nro%i==0):\n",
    "            es_primo=False\n",
    "    if (es_primo):\n",
    "        print(nro, \"es primo\")\n",
    "    else:\n",
    "        print(nro, 'no es primo')  "
   ]
  },
  {
   "cell_type": "code",
   "execution_count": 10,
   "metadata": {},
   "outputs": [
    {
     "name": "stdout",
     "output_type": "stream",
     "text": [
      "0 es primo\n",
      "1 es primo\n",
      "2 es primo\n",
      "3 es primo\n",
      "4 no es primo\n",
      "5 es primo\n",
      "6 no es primo\n",
      "7 es primo\n",
      "8 no es primo\n",
      "9 no es primo\n",
      "10 no es primo\n",
      "11 es primo\n",
      "12 no es primo\n",
      "13 es primo\n",
      "14 no es primo\n",
      "15 no es primo\n",
      "16 no es primo\n",
      "17 es primo\n",
      "18 no es primo\n",
      "19 es primo\n",
      "20 no es primo\n",
      "21 no es primo\n",
      "22 no es primo\n",
      "23 es primo\n",
      "24 no es primo\n",
      "25 no es primo\n",
      "26 no es primo\n",
      "27 no es primo\n",
      "28 no es primo\n",
      "29 es primo\n",
      "30 no es primo\n",
      "Cantidad de ciclos: 135\n"
     ]
    }
   ],
   "source": [
    "#10) ¿Se puede mejorar el proceso del punto 9? Utilizar las sentencias\n",
    "# break y/ó continue para tal fin\n",
    "cantidad_ciclos = 0\n",
    "for nro in range(0, 31):\n",
    "    es_primo=True\n",
    "    for i in range(2, nro): \n",
    "        cantidad_ciclos +=1\n",
    "        if (nro%i==0):\n",
    "            es_primo=False\n",
    "            break\n",
    "    if (es_primo):\n",
    "        print(nro, \"es primo\")\n",
    "    else:\n",
    "        print(nro, 'no es primo')  \n",
    "print('Cantidad de ciclos: ' +str(cantidad_ciclos))"
   ]
  },
  {
   "cell_type": "code",
   "execution_count": 11,
   "metadata": {},
   "outputs": [
    {
     "name": "stdout",
     "output_type": "stream",
     "text": [
      "0 es primo\n",
      "1 es primo\n",
      "2 es primo\n",
      "3 es primo\n",
      "4 no es primo\n",
      "5 es primo\n",
      "6 no es primo\n",
      "7 es primo\n",
      "8 no es primo\n",
      "9 no es primo\n",
      "10 no es primo\n",
      "11 es primo\n",
      "12 no es primo\n",
      "13 es primo\n",
      "14 no es primo\n",
      "15 no es primo\n",
      "16 no es primo\n",
      "17 es primo\n",
      "18 no es primo\n",
      "19 es primo\n",
      "20 no es primo\n",
      "21 no es primo\n",
      "22 no es primo\n",
      "23 es primo\n",
      "24 no es primo\n",
      "25 no es primo\n",
      "26 no es primo\n",
      "27 no es primo\n",
      "28 no es primo\n",
      "29 es primo\n",
      "30 no es primo\n",
      "Cantidad de ciclos sin break: 406\n",
      "0 es primo\n",
      "1 es primo\n",
      "2 es primo\n",
      "3 es primo\n",
      "4 no es primo\n",
      "5 es primo\n",
      "6 no es primo\n",
      "7 es primo\n",
      "8 no es primo\n",
      "9 no es primo\n",
      "10 no es primo\n",
      "11 es primo\n",
      "12 no es primo\n",
      "13 es primo\n",
      "14 no es primo\n",
      "15 no es primo\n",
      "16 no es primo\n",
      "17 es primo\n",
      "18 no es primo\n",
      "19 es primo\n",
      "20 no es primo\n",
      "21 no es primo\n",
      "22 no es primo\n",
      "23 es primo\n",
      "24 no es primo\n",
      "25 no es primo\n",
      "26 no es primo\n",
      "27 no es primo\n",
      "28 no es primo\n",
      "29 es primo\n",
      "30 no es primo\n",
      "Cantidad de ciclos: 135\n",
      "Se optimizo a un 0.33251231527093594% de ciclos aplicando break\n"
     ]
    }
   ],
   "source": [
    "#11) En los puntos 9 y 10, se diseño un código que encuentra números primos\n",
    "# y además se lo optimizó. ¿Es posible saber en qué medida se optimizó?\n",
    "ciclos_sin_break = 0\n",
    "for nro in range(0, 31):\n",
    "    es_primo=True\n",
    "    for i in range(2, nro): \n",
    "        ciclos_sin_break +=1\n",
    "        if (nro%i==0):\n",
    "            es_primo=False\n",
    "    if (es_primo):\n",
    "        print(nro, \"es primo\")\n",
    "    else:\n",
    "        print(nro, 'no es primo')  \n",
    "print('Cantidad de ciclos sin break: ' +str(ciclos_sin_break))\n",
    "\n",
    "ciclos_con_break = 0\n",
    "for nro in range(0, 31):\n",
    "    es_primo=True\n",
    "    for i in range(2, nro): \n",
    "        ciclos_con_break +=1\n",
    "        if (nro%i==0):\n",
    "            es_primo=False\n",
    "            break\n",
    "    if (es_primo):\n",
    "        print(nro, \"es primo\")\n",
    "    else:\n",
    "        print(nro, 'no es primo')  \n",
    "print('Cantidad de ciclos: ' +str(ciclos_con_break))\n",
    "print('Se optimizo a un ' + str(ciclos_con_break/ciclos_sin_break) + '% de ciclos aplicando break')\n"
   ]
  },
  {
   "cell_type": "code",
   "execution_count": 12,
   "metadata": {},
   "outputs": [
    {
     "name": "stdout",
     "output_type": "stream",
     "text": [
      "Con 31: 0.3325% de optimizacion/n\n",
      "Con 100: 1132/4756 0.23916% de optimizacion/n\n"
     ]
    }
   ],
   "source": [
    "#12) Si la cantidad de números que se evalúa es mayor a treinta, esa optimización crece?\n",
    "print(\"Con 31: 0.3325% de optimizacion/n\")\n",
    "print(\"Con 100: 1132/4756 0.23916% de optimizacion/n\")"
   ]
  },
  {
   "cell_type": "code",
   "execution_count": 13,
   "metadata": {},
   "outputs": [
    {
     "name": "stdout",
     "output_type": "stream",
     "text": [
      "108 es divisible por 12\n",
      "120 es divisible por 12\n",
      "132 es divisible por 12\n",
      "144 es divisible por 12\n",
      "156 es divisible por 12\n",
      "168 es divisible por 12\n",
      "180 es divisible por 12\n",
      "192 es divisible por 12\n",
      "204 es divisible por 12\n",
      "216 es divisible por 12\n",
      "228 es divisible por 12\n",
      "240 es divisible por 12\n",
      "252 es divisible por 12\n",
      "264 es divisible por 12\n",
      "276 es divisible por 12\n",
      "288 es divisible por 12\n",
      "300 es divisible por 12\n"
     ]
    }
   ],
   "source": [
    "#13) Aplicando continue, armar un ciclo while que solo imprima los valores divisibles por 12,\n",
    "#  dentro del rango de números de 100 a 300\n",
    "\n",
    "n=99\n",
    "while (n<=300):\n",
    "    n+=1\n",
    "    if (n % 12 != 0):\n",
    "        continue\n",
    "    print(str(n), \"es divisible por 12\")\n"
   ]
  },
  {
   "cell_type": "code",
   "execution_count": 22,
   "metadata": {},
   "outputs": [
    {
     "name": "stdout",
     "output_type": "stream",
     "text": [
      "1\n",
      "¿Desea encontrar el siguiente número primo?\n",
      "Se finaliza el proceso\n"
     ]
    }
   ],
   "source": [
    "#14) Utilizar la función **input()** que permite hacer ingresos por teclado, \n",
    "# para encontrar números primos y dar la opción al usuario de buscar el siguiente\"\n",
    "n = 1\n",
    "sigue = 1\n",
    "primo = True\n",
    "while (sigue == 1):\n",
    "    for div in range(2, n):\n",
    "        if (n % div == 0):\n",
    "            primo = False\n",
    "            break\n",
    "    if (primo):\n",
    "        print(n)\n",
    "        print('¿Desea encontrar el siguiente número primo?')\n",
    "        if (input() != '1'):\n",
    "            print('Se finaliza el proceso')\n",
    "            break\n",
    "    else:\n",
    "        primo = True\n",
    "    n += 1\n",
    "\n"
   ]
  },
  {
   "cell_type": "code",
   "execution_count": 23,
   "metadata": {},
   "outputs": [
    {
     "name": "stdout",
     "output_type": "stream",
     "text": [
      "El número es:  102\n"
     ]
    }
   ],
   "source": [
    "#15) Crear un ciclo while que encuentre dentro del rango de 100 a 300 el primer número divisible por 3 y además múltiplo de 6\n",
    "n = 100\n",
    "while(n<=300):\n",
    "    if (n % 6 == 0):\n",
    "        print('El número es: ', str(n))\n",
    "        break\n",
    "    n += 1\n",
    "\n"
   ]
  }
 ],
 "metadata": {
  "interpreter": {
   "hash": "e371a547b05cc06fe9399c68d0811fab82050f0eaa2349dcabfd68d0d68f365a"
  },
  "kernelspec": {
   "display_name": "Python 3.10.4 64-bit",
   "language": "python",
   "name": "python3"
  },
  "language_info": {
   "codemirror_mode": {
    "name": "ipython",
    "version": 3
   },
   "file_extension": ".py",
   "mimetype": "text/x-python",
   "name": "python",
   "nbconvert_exporter": "python",
   "pygments_lexer": "ipython3",
   "version": "3.10.4"
  },
  "orig_nbformat": 4
 },
 "nbformat": 4,
 "nbformat_minor": 2
}
