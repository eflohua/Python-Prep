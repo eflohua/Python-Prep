{
 "cells": [
  {
   "cell_type": "code",
   "execution_count": 1,
   "metadata": {},
   "outputs": [
    {
     "name": "stdout",
     "output_type": "stream",
     "text": [
      "5\n",
      "4\n",
      "9\n",
      "2\n"
     ]
    }
   ],
   "source": [
    "#ITERADORES E ITERABLES\n",
    "lista = [5,4,9,2]\n",
    "i = 0\n",
    "while i < len(lista):\n",
    "    elemento = lista[i]\n",
    "    print(elemento)\n",
    "    i += 1"
   ]
  },
  {
   "cell_type": "markdown",
   "metadata": {},
   "source": [
    "lista = [5,4,9,2]\n",
    "for elemento in lista\n",
    "    print(elemento)"
   ]
  },
  {
   "cell_type": "code",
   "execution_count": 2,
   "metadata": {},
   "outputs": [
    {
     "name": "stdout",
     "output_type": "stream",
     "text": [
      "5\n",
      "4\n",
      "9\n",
      "2\n"
     ]
    }
   ],
   "source": [
    "lista = [5,4,9,2]\n",
    "for elemento in lista:\n",
    "    print(elemento)"
   ]
  },
  {
   "cell_type": "code",
   "execution_count": 3,
   "metadata": {},
   "outputs": [
    {
     "name": "stdout",
     "output_type": "stream",
     "text": [
      "H\n",
      "o\n",
      "l\n",
      "a\n"
     ]
    }
   ],
   "source": [
    "cadena = 'Hola'\n",
    "for c in cadena:\n",
    "    print(c)"
   ]
  },
  {
   "cell_type": "code",
   "execution_count": 4,
   "metadata": {},
   "outputs": [
    {
     "name": "stdout",
     "output_type": "stream",
     "text": [
      "['h', 'o', 'l', 'a']\n"
     ]
    }
   ],
   "source": [
    "print(list(\"hola\"))"
   ]
  },
  {
   "cell_type": "code",
   "execution_count": 6,
   "metadata": {},
   "outputs": [
    {
     "name": "stdout",
     "output_type": "stream",
     "text": [
      "6\n"
     ]
    }
   ],
   "source": [
    "print(sum([1,2,3]))"
   ]
  },
  {
   "cell_type": "code",
   "execution_count": 9,
   "metadata": {},
   "outputs": [
    {
     "name": "stdout",
     "output_type": "stream",
     "text": [
      "H-o-l-a\n"
     ]
    }
   ],
   "source": [
    "print(\"-\".join(\"Hola\"))"
   ]
  },
  {
   "cell_type": "code",
   "execution_count": 12,
   "metadata": {},
   "outputs": [
    {
     "name": "stdout",
     "output_type": "stream",
     "text": [
      "pais\n",
      "continente\n",
      "ciudad\n"
     ]
    }
   ],
   "source": [
    "#Iteración sobre un diccionario\n",
    "mi_dict = {'pais':['peru','uruguay','bolivia'],\n",
    "            'continente':['america','asia','africa'],\n",
    "            'ciudad':['lima','quito','asuncion']}\n",
    "for i in mi_dict:\n",
    "    print(i)"
   ]
  },
  {
   "cell_type": "code",
   "execution_count": 20,
   "metadata": {},
   "outputs": [
    {
     "name": "stdout",
     "output_type": "stream",
     "text": [
      "pagina1\n"
     ]
    }
   ],
   "source": [
    "libro = ['pagina1','pagina2','pagina3','pagina4']\n",
    "marcapaginas = iter(libro)\n",
    "print(next(marcapaginas))"
   ]
  },
  {
   "cell_type": "code",
   "execution_count": null,
   "metadata": {},
   "outputs": [],
   "source": [
    "lis1 = ['grace','eliza','celeste','franco']\n",
    "lis2 = ['peru','chile','brasil','argentina']"
   ]
  },
  {
   "cell_type": "code",
   "execution_count": 22,
   "metadata": {},
   "outputs": [
    {
     "data": {
      "text/plain": [
       "[(1, 'Uno'), (2, 'Dos')]"
      ]
     },
     "execution_count": 22,
     "metadata": {},
     "output_type": "execute_result"
    }
   ],
   "source": [
    "#ITERADORES: ZIP\n",
    "a = [1, 2]\n",
    "b = [\"Uno\", \"Dos\"]\n",
    "c = zip(a,b)\n",
    "type(c)\n",
    "zip\n",
    "list(c)"
   ]
  },
  {
   "cell_type": "code",
   "execution_count": 24,
   "metadata": {},
   "outputs": [
    {
     "name": "stdout",
     "output_type": "stream",
     "text": [
      "['r', 'r', 'r', 'r']\n"
     ]
    }
   ],
   "source": [
    "#Añadiendo condicionales\n",
    "frase = \"El perro de san roque no tiene rabo\"\n",
    "erres = [i for i in frase if i == 'r']\n",
    "print(erres)"
   ]
  },
  {
   "cell_type": "code",
   "execution_count": 25,
   "metadata": {},
   "outputs": [
    {
     "name": "stdout",
     "output_type": "stream",
     "text": [
      "4\n"
     ]
    }
   ],
   "source": [
    "print(len(erres))"
   ]
  },
  {
   "cell_type": "code",
   "execution_count": 26,
   "metadata": {},
   "outputs": [
    {
     "data": {
      "text/plain": [
       "{'pais': ['peru', 'uruguay', 'bolivia'],\n",
       " 'continente': ['america', 'asia', 'africa'],\n",
       " 'ciudad': ['lima', 'quito', 'asuncion']}"
      ]
     },
     "execution_count": 26,
     "metadata": {},
     "output_type": "execute_result"
    }
   ],
   "source": [
    "mi_dict"
   ]
  },
  {
   "cell_type": "code",
   "execution_count": 28,
   "metadata": {},
   "outputs": [
    {
     "data": {
      "text/plain": [
       "{'pais': ['peru', 'uruguay', 'bolivia'],\n",
       " 'continente': ['america', 'asia', 'africa', 'Europa', 'Europa'],\n",
       " 'ciudad': ['lima', 'quito', 'asuncion']}"
      ]
     },
     "execution_count": 28,
     "metadata": {},
     "output_type": "execute_result"
    }
   ],
   "source": [
    "mi_dict['continente'].append('Europa')\n",
    "mi_dict"
   ]
  },
  {
   "cell_type": "code",
   "execution_count": 29,
   "metadata": {},
   "outputs": [
    {
     "data": {
      "text/plain": [
       "dict_keys(['pais', 'continente', 'ciudad'])"
      ]
     },
     "execution_count": 29,
     "metadata": {},
     "output_type": "execute_result"
    }
   ],
   "source": [
    "mi_dict.keys()"
   ]
  },
  {
   "cell_type": "code",
   "execution_count": 32,
   "metadata": {},
   "outputs": [
    {
     "data": {
      "text/plain": [
       "{'pais': ['peru', 'uruguay', 'bolivia'],\n",
       " 'continente': ['america', 'asia', 'africa', 'Europa', 'Europa'],\n",
       " 'ciudad': ['lima', 'quito', 'asuncion'],\n",
       " 'ejemplo': [10, 10, 10, 10]}"
      ]
     },
     "execution_count": 32,
     "metadata": {},
     "output_type": "execute_result"
    }
   ],
   "source": [
    "mi_dict['ejemplo'] = [10,10,10,10]\n",
    "mi_dict"
   ]
  },
  {
   "cell_type": "code",
   "execution_count": 35,
   "metadata": {},
   "outputs": [
    {
     "data": {
      "text/plain": [
       "{'pais': ['peru', 'uruguay', 'bolivia'],\n",
       " 'continente': ['america', 'asia', 'africa', 'Europa', 'Europa'],\n",
       " 'ciudad': ['lima', 'quito', 'asuncion'],\n",
       " 'ejemplo': [10, 10, 10, 10],\n",
       " 'Habitantes': [100, 1001, 100, 100, 100]}"
      ]
     },
     "execution_count": 35,
     "metadata": {},
     "output_type": "execute_result"
    }
   ],
   "source": [
    "mi_dict['Habitantes'] = [100,1001,100,100,100]\n",
    "mi_dict"
   ]
  },
  {
   "cell_type": "code",
   "execution_count": null,
   "metadata": {},
   "outputs": [],
   "source": [
    "#ITERADORES: ES for, iter, next y todo eso"
   ]
  }
 ],
 "metadata": {
  "interpreter": {
   "hash": "e371a547b05cc06fe9399c68d0811fab82050f0eaa2349dcabfd68d0d68f365a"
  },
  "kernelspec": {
   "display_name": "Python 3.10.4 64-bit",
   "language": "python",
   "name": "python3"
  },
  "language_info": {
   "codemirror_mode": {
    "name": "ipython",
    "version": 3
   },
   "file_extension": ".py",
   "mimetype": "text/x-python",
   "name": "python",
   "nbconvert_exporter": "python",
   "pygments_lexer": "ipython3",
   "version": "3.10.4"
  },
  "orig_nbformat": 4
 },
 "nbformat": 4,
 "nbformat_minor": 2
}
