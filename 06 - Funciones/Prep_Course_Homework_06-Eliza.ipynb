{
 "cells": [
  {
   "cell_type": "code",
   "execution_count": 36,
   "metadata": {},
   "outputs": [
    {
     "name": "stdout",
     "output_type": "stream",
     "text": [
      "True\n"
     ]
    }
   ],
   "source": [
    "## Funciones\n",
    "\n",
    "#1) Crear una función que reciba un número como parámetro y devuelva si True si es primo y False si no lo es\n",
    "def verifica_primo(nro):#nro = 5\n",
    "    es_primo = True\n",
    "    if nro <=1:\n",
    "        es_primo = False\n",
    "    for i in range (2, nro):#i=2,3,4\n",
    "        if nro % i == 0:#5%2=1, 5%3=2,5%4=1 #eentonces como i solo va iterar hasta 4 y como todo salio else y ya no\n",
    "            es_primo = False #volver al for entonces va tener q retorner co el utlimo valor q tomo es primo = true\n",
    "            break            \n",
    "    return es_primo\n",
    "nro = int(input('Ingrese un numero: '))\n",
    "print(verifica_primo(nro))\n"
   ]
  },
  {
   "cell_type": "code",
   "execution_count": 37,
   "metadata": {},
   "outputs": [],
   "source": [
    "#2) Utilizando la función del punto 1, realizar otra función que reciba de parámetro una lista de números\n",
    "# y devuelva sólo aquellos que son primos en otra lista\n",
    "\n",
    "def extrae_primo_de_lista(lista):\n",
    "    lista_primos = []\n",
    "    for elemento in lista:\n",
    "        if verifica_primo(int(elemento)):\n",
    "            lista_primos.append(elemento)\n",
    "    return lista_primos\n"
   ]
  },
  {
   "cell_type": "code",
   "execution_count": 38,
   "metadata": {},
   "outputs": [
    {
     "data": {
      "text/plain": [
       "[2, 3, 5, 7, 11, 13, 17, 19]"
      ]
     },
     "execution_count": 38,
     "metadata": {},
     "output_type": "execute_result"
    }
   ],
   "source": [
    "lis_completa = [1,2,3,4,5,6,7,8,9,10,11,12,13,14,15,16,17,18,19,20]\n",
    "lis_primos = extrae_primo_de_lista(lis_completa)\n",
    "lis_primos"
   ]
  },
  {
   "cell_type": "code",
   "execution_count": 42,
   "metadata": {},
   "outputs": [
    {
     "data": {
      "text/plain": [
       "(5, 3)"
      ]
     },
     "execution_count": 42,
     "metadata": {},
     "output_type": "execute_result"
    }
   ],
   "source": [
    "#3) Crear una función que al recibir una lista de números, devuelva el que más se repite y cuántas veces lo hace.\n",
    "#  Si hay más de un \"más repetido\", que devuelva cualquiera\n",
    "lista = [5, 2, 5, 3, 5, 1, 4, 4, 6, 3]\n",
    "#indi = [0, 1, 2, 3, 4, 5, 6, 7, 8, 9]\n",
    "\"\"\"\n",
    "lista_unicos = [5, 2, 5, 3, 5, 1, 4, 4, 6, 3]\n",
    "lista_repeticiones = []\n",
    "\"\"\"\n",
    "#Para lograr esto existen muchas alternativas, una de ellas es hacerlo mediante dos listas.\n",
    "def valor_modal(lista):\n",
    "    #Creamos una lista para guardar los elementos repetidos.\n",
    "    lista_unicos = []\n",
    "    #lista para guardar la cantidad de veces que se repite ese elmento.\n",
    "    lista_repeticiones = []\n",
    "    #Si la lista que forma parte del argumento no tiene valores, la funcion no devuelve nada.\n",
    "    if len(lista) == 0:\n",
    "        return print(None)\n",
    "    #Vamos a recorrer cada elemento de la lista que forma parte del argumento.\n",
    "    for elemento in lista:\n",
    "        if (elemento in lista_unicos):\n",
    "            i = lista_unicos.index(elemento) #Si el elemento se encuentra en la lista_unicos, vamos a igualar una variable i a su indice.\n",
    "            lista_repeticiones[i] += 1 #A ese indice i de la lista_repeticiones. Le vamos a sumar uno porque siginifica que valor ya esta.\n",
    "        else:\n",
    "            lista_unicos.append(elemento) #Si el elemento no esta en la lista_unicos, lo agrego. Esta es la condicion que corre al principio.\n",
    "            lista_repeticiones.append(1) #Además de agregar el elemento a la otra lista, agrego el valor 1 a la lista_repeticiones.\n",
    "#lista = [5, 2, 5, 3, 5, 1, 4, 4, 6, 3]\n",
    "#lista_unicos = [5,2,3,1,4,6,3]\n",
    "#lista_repeticiones = [3,1,1,1,2,1,1]\n",
    "    moda = lista_unicos[0] #Creamos la variable moda para utilizarla en un bucle, la iniciamos con el valor del primer indice de lista_unicos.\n",
    "    maximo = lista_repeticiones[0] #Creamos la variable maximo y la inicamos con el valor del primer indice de la lista_repeticiones\n",
    "    for i, elemento in enumerate(lista_unicos): #con enumerate y dos variables en el for recorremos los indices y sus valores.\n",
    "        if lista_repeticiones[i] > maximo: #i toma valores numericos, por lo que verfico si el valor guardado en [i] es mayor a máximo.\n",
    "            moda = lista_unicos[i] # Si lo anterior se cumple, asigno el valor del [i] de cada lista para moda y máximo.\n",
    "            maximo = lista_repeticiones[i]\n",
    "    return moda, maximo #Una vez que el bucle termine tendre el valor maximo de repeticiones junto al valor modal.\n",
    "valor_modal(lista)\n",
    "        "
   ]
  },
  {
   "cell_type": "code",
   "execution_count": 45,
   "metadata": {},
   "outputs": [
    {
     "name": "stdout",
     "output_type": "stream",
     "text": [
      "(4, 5)\n"
     ]
    }
   ],
   "source": [
    "#Sin bucle for al final\n",
    "def valores_repetidos(lista):\n",
    "    lista_unicos=[]\n",
    "    lista_repeticiones=[]\n",
    "    for c in lista:\n",
    "        if(not(c in lista_unicos)):\n",
    "            lista_unicos.append(c)\n",
    "            lista_repeticiones.append(1)\n",
    "        else:\n",
    "            i = lista_unicos.index(c)\n",
    "            lista_repeticiones[i] += 1\n",
    "    repeticiones = max(lista_repeticiones)\n",
    "    moda=lista_unicos[lista_repeticiones.index(repeticiones)]\n",
    "    return moda, repeticiones\n",
    "\n",
    "lista_prueba = [1,1,2,3,4,4,4,4,4,1,2,2,5,2,6,1]\n",
    "print(valores_repetidos(lista_prueba))"
   ]
  },
  {
   "cell_type": "code",
   "execution_count": 55,
   "metadata": {},
   "outputs": [
    {
     "name": "stdout",
     "output_type": "stream",
     "text": [
      "([1, 8, 9], 3)\n"
     ]
    }
   ],
   "source": [
    "#Para varios valores repetidos\n",
    "\n",
    "def valores_repetidos(lista):\n",
    "    lista_unicos=[]\n",
    "    lista_repeticiones=[]\n",
    "    for c in lista:\n",
    "        if(not(c in lista_unicos)):\n",
    "            lista_unicos.append(c)\n",
    "            #lista_unicos = [1,5,6,7,8,9]\n",
    "            lista_repeticiones.append(1)\n",
    "            #lista_repeticiones = [3,1,1,1,3,3]\n",
    "        else:\n",
    "            i=lista_unicos.index(c)#0,\n",
    "            lista_repeticiones[i]+=1\n",
    "    repeticiones = max(lista_repeticiones)\n",
    "    moda=[]\n",
    "    for i, c in enumerate(lista_repeticiones):\n",
    "        if(c==repeticiones):\n",
    "            moda.append(lista_unicos[i])\n",
    "    return moda, repeticiones\n",
    "\n",
    "lista2=[1,1,1,5,6,7,8,8,8,9,9,9]\n",
    "print(valores_repetidos(lista2))"
   ]
  },
  {
   "cell_type": "code",
   "execution_count": 59,
   "metadata": {},
   "outputs": [
    {
     "name": "stdout",
     "output_type": "stream",
     "text": [
      "([1, 8, 9], 3)\n"
     ]
    }
   ],
   "source": [
    "#4) A la función del punto 3, agregar un parámetro más, que permita elegir si se requiere el menor o el mayor de los mas repetidos.\n",
    "\n",
    "#Para devolver el menor valor repetido\n",
    "\n",
    "def valores_repetidos_menor(lista, menor):\n",
    "    lista_unicos=[]\n",
    "    lista_repeticiones=[]\n",
    "    for c in lista:\n",
    "        if(not(c in lista_unicos)):\n",
    "            lista_unicos.append(c)\n",
    "            #lista_unicos = [1,5,6,7,8,9]\n",
    "            lista_repeticiones.append(1)\n",
    "            #lista_repeticiones = [3,1,1,1,3,3]\n",
    "        else:\n",
    "            i=lista_unicos.index(c)#0,\n",
    "            lista_repeticiones[i]+=1\n",
    "    repeticiones = max(lista_repeticiones)\n",
    "    moda=[]\n",
    "\n",
    "    for i, c in enumerate(lista_repeticiones):\n",
    "        if(c==repeticiones):\n",
    "            moda.append(lista_unicos[i])\n",
    "\n",
    "    if(menor):\n",
    "        moda.sort()\n",
    "        moda=moda[0]\n",
    "        return moda, repeticiones\n",
    "    return moda, repeticiones\n",
    "\n",
    "lista2=[1,1,1,5,6,7,8,8,8,9,9,9]\n",
    "print(valores_repetidos_menor(lista2, False))\n",
    "    "
   ]
  },
  {
   "cell_type": "code",
   "execution_count": null,
   "metadata": {},
   "outputs": [],
   "source": [
    "#5) Crear una función que convierta entre grados Celsius, Farenheit y Kelvin<br>\n",
    "#Fórmula 1\t: (°C × 9/5) + 32 = °F<br>\n",
    "#Fórmula 2\t: °C + 273.15 = °K<br>\n",
    "#Debe recibir 3 parámetros: el valor, la medida de orígen y la medida de destino    "
   ]
  },
  {
   "cell_type": "code",
   "execution_count": 67,
   "metadata": {},
   "outputs": [],
   "source": [
    "def conversion_grados2(valor, origen, destino):\n",
    "    #Operacines de conversion\n",
    "    celsius_farenheit = (valor*9/5) + 32\n",
    "    celsius_kelvin = valor + 273.15\n",
    "    farenheit_celsius = (valor - 32) / (5/9)\n",
    "    farenheit_kelvin = farenheit_celsius + 273.15\n",
    "    kelvin_celsius = valor - 273.15\n",
    "    kelvin_farenheit = (kelvin_celsius * 9/5) + 32\n",
    "\n",
    "    #Operaciones de asignacion \n",
    "    #Celsius\n",
    "    if (origen == 'c' and destino == 'f'):\n",
    "        valor_destino = celsius_farenheit\n",
    "    elif (origen == 'c' and destino == 'c'):\n",
    "        valor_destino = valor\n",
    "    elif (origen == 'c' and destino == 'k'):\n",
    "        valor_destino = celsius_kelvin\n",
    "    #Farenheit\n",
    "    elif (origen == 'f' and destino=='f'):\n",
    "        valor_destino = valor\n",
    "    elif (origen == 'f' and destino=='c'):\n",
    "        valor_destino = farenheit_celsius\n",
    "    elif (origen == 'f' and destino == 'k'):\n",
    "        valor_destino = farenheit_kelvin\n",
    "    #kelvin\n",
    "    elif (origen == 'k' and destino=='k'):\n",
    "        valor_destino = valor\n",
    "    elif (origen == 'k' and destino=='c'):\n",
    "        valor_destino = kelvin_celsius\n",
    "    elif (origen == 'k' and destino == 'f'):\n",
    "        valor_destino = kelvin_farenheit\n",
    "    else:return print('Ingrese los pramatros correctos')\n",
    "\n",
    "    return valor_destino\n"
   ]
  },
  {
   "cell_type": "code",
   "execution_count": 68,
   "metadata": {},
   "outputs": [
    {
     "name": "stdout",
     "output_type": "stream",
     "text": [
      "1 grado Celsius a Celsius: 1\n",
      "1 grado Celsius a Kelvin: 274.15\n",
      "1 grado Celsius a Farenheit: 33.8\n",
      "1 grado Kelvin a Celsius: -272.15\n",
      "1 grado Kelvin a Kelvin: 1\n",
      "1 grado Kelvin a Farenheit: -457.87\n",
      "1 grado Farenheit a Celsius: -55.8\n",
      "1 grado Farenheit a Kelvin: 217.34999999999997\n",
      "1 grado Farenheit a Farenheit: 1\n"
     ]
    }
   ],
   "source": [
    "print('1 grado Celsius a Celsius:', conversion_grados2(1, 'c', 'c'))\n",
    "print('1 grado Celsius a Kelvin:', conversion_grados2(1, 'c', 'k'))\n",
    "print('1 grado Celsius a Farenheit:', conversion_grados2(1, 'c', 'f'))\n",
    "print('1 grado Kelvin a Celsius:', conversion_grados2(1, 'k', 'c'))\n",
    "print('1 grado Kelvin a Kelvin:', conversion_grados2(1, 'k', 'k'))\n",
    "print('1 grado Kelvin a Farenheit:', conversion_grados2(1, 'k', 'f'))\n",
    "print('1 grado Farenheit a Celsius:', conversion_grados2(1, 'f', 'c'))\n",
    "print('1 grado Farenheit a Kelvin:', conversion_grados2(1, 'f', 'k'))\n",
    "print('1 grado Farenheit a Farenheit:', conversion_grados2(1, 'f', 'f'))"
   ]
  },
  {
   "cell_type": "code",
   "execution_count": null,
   "metadata": {},
   "outputs": [],
   "source": [
    "#6) Iterando una lista con los tres valores posibles de temperatura que recibe la función del punto 5, \n",
    "# hacer un print para cada combinación de los mismos:"
   ]
  },
  {
   "cell_type": "code",
   "execution_count": 73,
   "metadata": {},
   "outputs": [
    {
     "name": "stdout",
     "output_type": "stream",
     "text": [
      "1 grado c a c : 1\n",
      "1 grado c a f : 33.8\n",
      "1 grado c a k : 274.15\n",
      "1 grado f a c : -55.8\n",
      "1 grado f a f : 1\n",
      "1 grado f a k : 217.34999999999997\n",
      "1 grado k a c : -272.15\n",
      "1 grado k a f : -457.87\n",
      "1 grado k a k : 1\n"
     ]
    }
   ],
   "source": [
    "metricas = ['c','f','k']\n",
    "for i in range (0,3):\n",
    "    for j in range (0,3):\n",
    "        print('1 grado',metricas[i], 'a', metricas[j],':', conversion_grados2(1,metricas[i], metricas[j]))"
   ]
  },
  {
   "cell_type": "code",
   "execution_count": 89,
   "metadata": {},
   "outputs": [
    {
     "name": "stdout",
     "output_type": "stream",
     "text": [
      "6\n",
      "Debe ingresar un numero positivo\n",
      "Debe ingresar un numero entero\n",
      "Debe ingresar un numero entero\n"
     ]
    }
   ],
   "source": [
    "#7) Armar una función que devuelva el factorial de un número.\n",
    "#  Tener en cuenta que el usuario puede equivocarse y enviar de parámetro un número no entero \n",
    "# o negativo\n",
    "\n",
    "def factorial(numero):\n",
    "    if(type(numero) != int):\n",
    "        return \"Debe ingresar un numero entero\"\n",
    "    if(numero < 0):\n",
    "        return \"Debe ingresar un numero positivo\"\n",
    "    if(numero > 1):\n",
    "        numero = numero*factorial(numero - 1)\n",
    "    return numero\n",
    "\n",
    "print(factorial(3))\n",
    "print(factorial(-2))\n",
    "print(factorial(1.23))\n",
    "print(factorial('7'))"
   ]
  }
 ],
 "metadata": {
  "interpreter": {
   "hash": "e371a547b05cc06fe9399c68d0811fab82050f0eaa2349dcabfd68d0d68f365a"
  },
  "kernelspec": {
   "display_name": "Python 3.10.4 64-bit",
   "language": "python",
   "name": "python3"
  },
  "language_info": {
   "codemirror_mode": {
    "name": "ipython",
    "version": 3
   },
   "file_extension": ".py",
   "mimetype": "text/x-python",
   "name": "python",
   "nbconvert_exporter": "python",
   "pygments_lexer": "ipython3",
   "version": "3.10.4"
  },
  "orig_nbformat": 4
 },
 "nbformat": 4,
 "nbformat_minor": 2
}
